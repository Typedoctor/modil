{
 "cells": [
  {
   "cell_type": "code",
   "execution_count": 35,
   "id": "0db75e66-10d8-450b-a131-6006afcc3f63",
   "metadata": {},
   "outputs": [
    {
     "name": "stdout",
     "output_type": "stream",
     "text": [
      "Recommendations for User 3:\n"
     ]
    },
    {
     "data": {
      "text/html": [
       "<div>\n",
       "<style scoped>\n",
       "    .dataframe tbody tr th:only-of-type {\n",
       "        vertical-align: middle;\n",
       "    }\n",
       "\n",
       "    .dataframe tbody tr th {\n",
       "        vertical-align: top;\n",
       "    }\n",
       "\n",
       "    .dataframe thead th {\n",
       "        text-align: right;\n",
       "    }\n",
       "</style>\n",
       "<table border=\"1\" class=\"dataframe\">\n",
       "  <thead>\n",
       "    <tr style=\"text-align: right;\">\n",
       "      <th></th>\n",
       "      <th>FoodName</th>\n",
       "      <th>Calories</th>\n",
       "      <th>Common_Allergens</th>\n",
       "      <th>Diet_Preference</th>\n",
       "    </tr>\n",
       "  </thead>\n",
       "  <tbody>\n",
       "    <tr>\n",
       "      <th>2</th>\n",
       "      <td>Paksiw na Isda</td>\n",
       "      <td>280</td>\n",
       "      <td>Fish</td>\n",
       "      <td>Pescatarian, Gluten-Free</td>\n",
       "    </tr>\n",
       "    <tr>\n",
       "      <th>15</th>\n",
       "      <td>Daing na Bangus</td>\n",
       "      <td>190</td>\n",
       "      <td>Fish</td>\n",
       "      <td>Pescatarian, Gluten-Free</td>\n",
       "    </tr>\n",
       "  </tbody>\n",
       "</table>\n",
       "</div>"
      ],
      "text/plain": [
       "           FoodName  Calories Common_Allergens           Diet_Preference\n",
       "2    Paksiw na Isda       280             Fish  Pescatarian, Gluten-Free\n",
       "15  Daing na Bangus       190             Fish  Pescatarian, Gluten-Free"
      ]
     },
     "metadata": {},
     "output_type": "display_data"
    }
   ],
   "source": [
    "import pandas as pd\n",
    "from sklearn.feature_extraction.text import TfidfVectorizer\n",
    "from sklearn.metrics.pairwise import cosine_similarity\n",
    "\n",
    "# Load data\n",
    "users = pd.read_csv('users.csv')\n",
    "meals = pd.read_csv('meal_data(new).csv')\n",
    "\n",
    "# Preprocessing\n",
    "meals.fillna({'Common_Allergens': 'None', 'Diet_Preference': 'None'}, inplace=True)\n",
    "users.fillna({'Allergens': 'None', 'Diet_Preference': 'None', 'Health_Restriction': 'None'}, inplace=True)  # FIX HERE\n",
    "\n",
    "# Create text features for meals\n",
    "meals['tags'] = meals['Diet_Preference'] + ' ' + meals['food_category'] + ' ' + meals['meal_types']\n",
    "\n",
    "# Initialize TF-IDF\n",
    "tfidf = TfidfVectorizer(stop_words='english', lowercase=True)\n",
    "tfidf_matrix = tfidf.fit_transform(meals['tags'])\n",
    "\n",
    "def recommend_meals(user_id, n=5):\n",
    "    try:\n",
    "        user = users[users['UserID'] == user_id].iloc[0]\n",
    "    except IndexError:\n",
    "        return pd.DataFrame()\n",
    "\n",
    "    filtered = meals.copy()\n",
    "    \n",
    "    # 1. Allergen filter\n",
    "    user_allergens = [a.strip().lower() for a in user['Allergens'].split(',') if a.strip().lower() != 'none']\n",
    "    if user_allergens:\n",
    "        filtered = filtered[~filtered['Common_Allergens'].str.lower().str.contains(\n",
    "            '|'.join(user_allergens), na=False, regex=False\n",
    "        )]\n",
    "    \n",
    "    # 2. Health restriction filter (FIXED)\n",
    "    health_map = {'Heart': 'Heart_Healthy', 'Diabetic': 'Diabetic_Friendly'}\n",
    "    if user['Health_Restriction'] != 'None':\n",
    "        health_col = health_map.get(user['Health_Restriction'], user['Health_Restriction'])\n",
    "        filtered = filtered[filtered[health_col] == 1]\n",
    "    \n",
    "    # 3. Diet preference filter\n",
    "    user_diets = [d.strip().lower() for d in str(user['Diet_Preference']).split(',') if d.strip().lower() != 'none']\n",
    "    if user_diets:\n",
    "        filtered = filtered[filtered['Diet_Preference'].str.lower().str.contains(\n",
    "            '|'.join(user_diets), na=False, regex=False\n",
    "        )]\n",
    "    \n",
    "    if filtered.empty:\n",
    "        return pd.DataFrame()\n",
    "    \n",
    "    # Content-based ranking\n",
    "    if user_diets:\n",
    "        user_profile = ' '.join(user_diets)\n",
    "        user_vector = tfidf.transform([user_profile])\n",
    "        cos_sim = cosine_similarity(user_vector, tfidf_matrix[filtered.index])\n",
    "        filtered['similarity'] = cos_sim[0]\n",
    "        filtered = filtered.sort_values('similarity', ascending=False)\n",
    "    else:\n",
    "        # Default sorting for users with no preferences\n",
    "        filtered = filtered.sort_values(by=['Protein (g)', 'Fiber (g)'], ascending=False)\n",
    "    \n",
    "    return filtered.head(n)\n",
    "\n",
    "# Test for User 3 (no restrictions)\n",
    "print(\"Recommendations for User 3:\")\n",
    "display(recommend_meals(23)[['FoodName', 'Calories', 'Common_Allergens', 'Diet_Preference']])"
   ]
  },
  {
   "cell_type": "code",
   "execution_count": null,
   "id": "a4cd9905-82bf-4be0-98d1-295cb3d24314",
   "metadata": {},
   "outputs": [],
   "source": []
  },
  {
   "cell_type": "code",
   "execution_count": null,
   "id": "4b3900b4-e441-4dc3-9476-2c2daf54671e",
   "metadata": {},
   "outputs": [],
   "source": []
  },
  {
   "cell_type": "code",
   "execution_count": null,
   "id": "5b398cea-7f6e-4ae2-a4b4-50c7b4152c14",
   "metadata": {},
   "outputs": [],
   "source": []
  },
  {
   "cell_type": "code",
   "execution_count": null,
   "id": "c6be1e0f-2ffe-44ef-ad94-fbe09513562c",
   "metadata": {},
   "outputs": [],
   "source": []
  },
  {
   "cell_type": "code",
   "execution_count": null,
   "id": "df53b2bb-2ada-435d-9ce9-2861b6199e3f",
   "metadata": {},
   "outputs": [],
   "source": []
  },
  {
   "cell_type": "code",
   "execution_count": null,
   "id": "904b9c37-4376-422f-a2bc-b2f1de9d8087",
   "metadata": {},
   "outputs": [],
   "source": []
  },
  {
   "cell_type": "code",
   "execution_count": null,
   "id": "14b90b3f-dbd1-47f4-b30b-a16ae3221513",
   "metadata": {},
   "outputs": [],
   "source": []
  },
  {
   "cell_type": "code",
   "execution_count": null,
   "id": "5247d03c-0751-4be6-85bc-85afac76be8e",
   "metadata": {},
   "outputs": [],
   "source": []
  },
  {
   "cell_type": "code",
   "execution_count": null,
   "id": "2a295e92-2a06-47e5-a715-05d9fd3cdf4b",
   "metadata": {},
   "outputs": [],
   "source": []
  },
  {
   "cell_type": "code",
   "execution_count": null,
   "id": "d7960102-2b37-4c73-bca8-4dc8e16b5459",
   "metadata": {},
   "outputs": [],
   "source": []
  },
  {
   "cell_type": "code",
   "execution_count": null,
   "id": "7addccd8-b310-44d3-9fa6-58deb6935fe6",
   "metadata": {},
   "outputs": [],
   "source": []
  },
  {
   "cell_type": "code",
   "execution_count": null,
   "id": "7b108545-0f04-4c30-9e67-d82a97ad3a6f",
   "metadata": {},
   "outputs": [],
   "source": []
  },
  {
   "cell_type": "code",
   "execution_count": null,
   "id": "25810791-869e-43bc-9bce-e9678126d9d9",
   "metadata": {},
   "outputs": [],
   "source": []
  },
  {
   "cell_type": "code",
   "execution_count": null,
   "id": "f7142caa-5637-4146-b58e-e89d16f56950",
   "metadata": {},
   "outputs": [],
   "source": []
  },
  {
   "cell_type": "code",
   "execution_count": null,
   "id": "51ae05fb-0d1e-4e48-8491-3e8d00348a67",
   "metadata": {},
   "outputs": [],
   "source": []
  },
  {
   "cell_type": "code",
   "execution_count": null,
   "id": "41b3d828-bc89-4c75-ba48-508819745164",
   "metadata": {},
   "outputs": [],
   "source": []
  },
  {
   "cell_type": "code",
   "execution_count": null,
   "id": "95406c2f-7f14-470d-816f-3a70d983c1cb",
   "metadata": {},
   "outputs": [],
   "source": []
  },
  {
   "cell_type": "code",
   "execution_count": null,
   "id": "c72f1024-6f15-4fc0-b972-df65a31c9184",
   "metadata": {},
   "outputs": [],
   "source": []
  },
  {
   "cell_type": "code",
   "execution_count": null,
   "id": "53e48c6e-c51b-472c-a09f-2cca8cae8a14",
   "metadata": {},
   "outputs": [],
   "source": []
  }
 ],
 "metadata": {
  "kernelspec": {
   "display_name": "Python 3 (ipykernel)",
   "language": "python",
   "name": "python3"
  },
  "language_info": {
   "codemirror_mode": {
    "name": "ipython",
    "version": 3
   },
   "file_extension": ".py",
   "mimetype": "text/x-python",
   "name": "python",
   "nbconvert_exporter": "python",
   "pygments_lexer": "ipython3",
   "version": "3.11.1"
  }
 },
 "nbformat": 4,
 "nbformat_minor": 5
}
